{
  "nbformat": 4,
  "nbformat_minor": 0,
  "metadata": {
    "colab": {
      "provenance": [],
      "authorship_tag": "ABX9TyNer25dsPX3vrRNo5Xm3iB3",
      "include_colab_link": true
    },
    "kernelspec": {
      "name": "python3",
      "display_name": "Python 3"
    },
    "language_info": {
      "name": "python"
    }
  },
  "cells": [
    {
      "cell_type": "markdown",
      "metadata": {
        "id": "view-in-github",
        "colab_type": "text"
      },
      "source": [
        "<a href=\"https://colab.research.google.com/github/Suryan5h/Deep-Learning/blob/main/Auto_gradient_using_tensors.ipynb\" target=\"_parent\"><img src=\"https://colab.research.google.com/assets/colab-badge.svg\" alt=\"Open In Colab\"/></a>"
      ]
    },
    {
      "cell_type": "code",
      "execution_count": 1,
      "metadata": {
        "id": "u4Xg1V3EvPR8"
      },
      "outputs": [],
      "source": [
        "import tensorflow as tf\n",
        "import numpy as np"
      ]
    },
    {
      "cell_type": "markdown",
      "source": [
        "Consider the set of equations given below. \n",
        "\n",
        "t = √x^0.3+0.1\n",
        "p=e^4t\n",
        "q=p^2−4*p\n",
        "\n",
        "What is the derivative of p and q with respect to x at x = 5?"
      ],
      "metadata": {
        "id": "QWMWSq0Kxk6F"
      }
    },
    {
      "cell_type": "code",
      "source": [
        "x = tf.Variable(5,dtype=float)\n",
        "with tf.GradientTape(persistent=True) as tape:\n",
        "  t = tf.pow((x**(0.3))+0.1,0.5)\n",
        "  p = tf.math.exp(4*t)\n",
        "  q = p**2 - 4*p\n",
        "\n",
        "dq_dx = tape.gradient(q,x)\n",
        "dp_dx = tape.gradient(p,x)\n",
        "print(dq_dx)\n",
        "print(dp_dx)"
      ],
      "metadata": {
        "colab": {
          "base_uri": "https://localhost:8080/"
        },
        "id": "i8odzBvDvWnE",
        "outputId": "d2caa92c-c2f6-43b7-efc1-7aa02e76ecd8"
      },
      "execution_count": 8,
      "outputs": [
        {
          "output_type": "stream",
          "name": "stdout",
          "text": [
            "tf.Tensor(10590.189, shape=(), dtype=float32)\n",
            "tf.Tensor(28.167446, shape=(), dtype=float32)\n"
          ]
        }
      ]
    },
    {
      "cell_type": "code",
      "source": [],
      "metadata": {
        "id": "u3wGMH3Pw0MU"
      },
      "execution_count": null,
      "outputs": []
    }
  ]
}