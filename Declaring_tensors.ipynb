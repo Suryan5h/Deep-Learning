{
  "nbformat": 4,
  "nbformat_minor": 0,
  "metadata": {
    "colab": {
      "provenance": [],
      "authorship_tag": "ABX9TyPKaqXKFLAsGei4bh0XTdpO",
      "include_colab_link": true
    },
    "kernelspec": {
      "name": "python3",
      "display_name": "Python 3"
    },
    "language_info": {
      "name": "python"
    }
  },
  "cells": [
    {
      "cell_type": "markdown",
      "metadata": {
        "id": "view-in-github",
        "colab_type": "text"
      },
      "source": [
        "<a href=\"https://colab.research.google.com/github/Suryan5h/Deep-Learning/blob/main/Declaring_tensors.ipynb\" target=\"_parent\"><img src=\"https://colab.research.google.com/assets/colab-badge.svg\" alt=\"Open In Colab\"/></a>"
      ]
    },
    {
      "cell_type": "markdown",
      "source": [
        "# Declaring tensors"
      ],
      "metadata": {
        "id": "XLwfSZzATPFe"
      }
    },
    {
      "cell_type": "code",
      "execution_count": 2,
      "metadata": {
        "id": "bD4SA4DyR1fN"
      },
      "outputs": [],
      "source": [
        "import tensorflow as tf\n",
        "import numpy as np"
      ]
    },
    {
      "cell_type": "code",
      "source": [
        "# approach 1 - initialize the nd array in numpy and then use that to initialize the tensor\n",
        "arr = np.random.randn(2,2,2,2) # returns random numbers from standard normal distribution-> mean=0 and std_dev = 1\n",
        "print(arr.shape)\n",
        "print(arr)\n",
        "\n",
        "#to change the mean to 1\n",
        "arr= arr+1\n",
        "\n",
        "# to change std dev (for eg. std to 2.5 and mean=1)\n",
        "# arr = 2.5 * arr + 1\n",
        "\n",
        "arr_tf = tf.constant(arr)\n",
        "print(arr_tf)"
      ],
      "metadata": {
        "colab": {
          "base_uri": "https://localhost:8080/"
        },
        "id": "sepPZjOLR43B",
        "outputId": "bc78d8d7-0fe0-4037-d834-25b4814c8cf8"
      },
      "execution_count": 8,
      "outputs": [
        {
          "output_type": "stream",
          "name": "stdout",
          "text": [
            "(2, 2, 2, 2)\n",
            "[[[[-1.08794193  1.72940536]\n",
            "   [ 1.06267729  0.18409602]]\n",
            "\n",
            "  [[-0.18225608  0.5889786 ]\n",
            "   [ 0.41146245 -1.11360789]]]\n",
            "\n",
            "\n",
            " [[[ 0.46052027  0.151689  ]\n",
            "   [ 0.96723423 -0.12782456]]\n",
            "\n",
            "  [[ 1.5465438   1.71291856]\n",
            "   [-1.85950547 -0.32300577]]]]\n",
            "tf.Tensor(\n",
            "[[[[-0.08794193  2.72940536]\n",
            "   [ 2.06267729  1.18409602]]\n",
            "\n",
            "  [[ 0.81774392  1.5889786 ]\n",
            "   [ 1.41146245 -0.11360789]]]\n",
            "\n",
            "\n",
            " [[[ 1.46052027  1.151689  ]\n",
            "   [ 1.96723423  0.87217544]]\n",
            "\n",
            "  [[ 2.5465438   2.71291856]\n",
            "   [-0.85950547  0.67699423]]]], shape=(2, 2, 2, 2), dtype=float64)\n"
          ]
        }
      ]
    },
    {
      "cell_type": "code",
      "source": [
        "# convert to numpy array\n",
        "print(type(arr_tf.numpy()))"
      ],
      "metadata": {
        "colab": {
          "base_uri": "https://localhost:8080/"
        },
        "id": "MJhYjazOSon3",
        "outputId": "c215926d-ad05-4542-e9e6-837783e2783f"
      },
      "execution_count": 7,
      "outputs": [
        {
          "output_type": "stream",
          "name": "stdout",
          "text": [
            "<class 'numpy.ndarray'>\n"
          ]
        }
      ]
    },
    {
      "cell_type": "code",
      "source": [
        "# approach 2 - using random number generating functions from TensorFlow\n",
        "arr_tf = tf.random.normal((2,2,2,2), mean=1,stddev=1,name=\"my_tensor\")\n",
        "print(arr_tf.shape)\n",
        "print(arr_tf.numpy())"
      ],
      "metadata": {
        "colab": {
          "base_uri": "https://localhost:8080/"
        },
        "id": "aDsS03C3TM13",
        "outputId": "9033d260-a1cd-4f89-c35b-b0716098b0d2"
      },
      "execution_count": 9,
      "outputs": [
        {
          "output_type": "stream",
          "name": "stdout",
          "text": [
            "(2, 2, 2, 2)\n",
            "[[[[ 0.5288888   0.7821159 ]\n",
            "   [ 1.668256    1.8159883 ]]\n",
            "\n",
            "  [[-1.2573655   0.38415825]\n",
            "   [ 0.17854476  0.29505938]]]\n",
            "\n",
            "\n",
            " [[[ 1.5150928   0.84227043]\n",
            "   [-0.832652    0.500628  ]]\n",
            "\n",
            "  [[ 0.4974625   2.2983122 ]\n",
            "   [ 0.03249741  2.0833216 ]]]]\n"
          ]
        }
      ]
    },
    {
      "cell_type": "code",
      "source": [
        "print(arr_tf)"
      ],
      "metadata": {
        "colab": {
          "base_uri": "https://localhost:8080/"
        },
        "id": "_szD90xaXlPn",
        "outputId": "9b2c0b43-36d4-4aae-b9f4-647efd6651d6"
      },
      "execution_count": 10,
      "outputs": [
        {
          "output_type": "stream",
          "name": "stdout",
          "text": [
            "tf.Tensor(\n",
            "[[[[ 0.5288888   0.7821159 ]\n",
            "   [ 1.668256    1.8159883 ]]\n",
            "\n",
            "  [[-1.2573655   0.38415825]\n",
            "   [ 0.17854476  0.29505938]]]\n",
            "\n",
            "\n",
            " [[[ 1.5150928   0.84227043]\n",
            "   [-0.832652    0.500628  ]]\n",
            "\n",
            "  [[ 0.4974625   2.2983122 ]\n",
            "   [ 0.03249741  2.0833216 ]]]], shape=(2, 2, 2, 2), dtype=float32)\n"
          ]
        }
      ]
    },
    {
      "cell_type": "code",
      "source": [
        "arr_tf"
      ],
      "metadata": {
        "colab": {
          "base_uri": "https://localhost:8080/"
        },
        "id": "TglFmou0X8dd",
        "outputId": "fd587126-c576-42f3-9672-048324877f0c"
      },
      "execution_count": 11,
      "outputs": [
        {
          "output_type": "execute_result",
          "data": {
            "text/plain": [
              "<tf.Tensor: shape=(2, 2, 2, 2), dtype=float32, numpy=\n",
              "array([[[[ 0.5288888 ,  0.7821159 ],\n",
              "         [ 1.668256  ,  1.8159883 ]],\n",
              "\n",
              "        [[-1.2573655 ,  0.38415825],\n",
              "         [ 0.17854476,  0.29505938]]],\n",
              "\n",
              "\n",
              "       [[[ 1.5150928 ,  0.84227043],\n",
              "         [-0.832652  ,  0.500628  ]],\n",
              "\n",
              "        [[ 0.4974625 ,  2.2983122 ],\n",
              "         [ 0.03249741,  2.0833216 ]]]], dtype=float32)>"
            ]
          },
          "metadata": {},
          "execution_count": 11
        }
      ]
    },
    {
      "cell_type": "code",
      "source": [
        "arr_tf.numpy()"
      ],
      "metadata": {
        "colab": {
          "base_uri": "https://localhost:8080/"
        },
        "id": "c23zZXFFX9hu",
        "outputId": "128b05c6-a524-4fe9-c36f-8e4fd0997e24"
      },
      "execution_count": 12,
      "outputs": [
        {
          "output_type": "execute_result",
          "data": {
            "text/plain": [
              "array([[[[ 0.5288888 ,  0.7821159 ],\n",
              "         [ 1.668256  ,  1.8159883 ]],\n",
              "\n",
              "        [[-1.2573655 ,  0.38415825],\n",
              "         [ 0.17854476,  0.29505938]]],\n",
              "\n",
              "\n",
              "       [[[ 1.5150928 ,  0.84227043],\n",
              "         [-0.832652  ,  0.500628  ]],\n",
              "\n",
              "        [[ 0.4974625 ,  2.2983122 ],\n",
              "         [ 0.03249741,  2.0833216 ]]]], dtype=float32)"
            ]
          },
          "metadata": {},
          "execution_count": 12
        }
      ]
    },
    {
      "cell_type": "code",
      "source": [
        "tensor1 = tf.random.uniform((2,2), minval= 1, maxval= 20, dtype= tf.int32)\n",
        "print(\"Initial tensor: \", tensor1.numpy())\n",
        "tensor2 = tf.pow(tensor1, 2)\n",
        "print(\"Squared tensor = \", tensor2.numpy())"
      ],
      "metadata": {
        "colab": {
          "base_uri": "https://localhost:8080/"
        },
        "id": "CM4UCStaYBie",
        "outputId": "e54e65ce-e4a0-435d-cc68-fa42b60a877e"
      },
      "execution_count": 14,
      "outputs": [
        {
          "output_type": "stream",
          "name": "stdout",
          "text": [
            "Initial tensor:  [[1 7]\n",
            " [5 6]]\n",
            "Squared tensor =  [[ 1 49]\n",
            " [25 36]]\n"
          ]
        }
      ]
    },
    {
      "cell_type": "code",
      "source": [
        "tensor1 = tf.random.uniform((2,2), minval= 1, maxval= 20)\n",
        "print(\"Initial tensor: \", tensor1.numpy())\n",
        "tensor2 = tf.pow(tensor1, 2)\n",
        "print(\"Squared tensor = \", tensor2.numpy())"
      ],
      "metadata": {
        "colab": {
          "base_uri": "https://localhost:8080/"
        },
        "id": "iIPeX3SvYD7O",
        "outputId": "762fa16b-d0b5-4b3f-bc92-1394820ac38f"
      },
      "execution_count": 15,
      "outputs": [
        {
          "output_type": "stream",
          "name": "stdout",
          "text": [
            "Initial tensor:  [[ 9.833239 11.277818]\n",
            " [ 9.646095 17.53631 ]]\n",
            "Squared tensor =  [[ 96.69258 127.18917]\n",
            " [ 93.04716 307.5222 ]]\n"
          ]
        }
      ]
    },
    {
      "cell_type": "code",
      "source": [
        "tensor1 = tf.random.uniform((2,2), minval= 1, maxval= 20, dtype= tf.int32)\n",
        "print(\"Initial tensor: \", tensor1.numpy())\n",
        "tensor2 = tensor1 * tensor1\n",
        "print(\"Squared tensor = \", tensor2.numpy())"
      ],
      "metadata": {
        "colab": {
          "base_uri": "https://localhost:8080/"
        },
        "id": "Q0T73nTvbogH",
        "outputId": "52993436-166a-45b2-a4a3-d4b69a0f6218"
      },
      "execution_count": 16,
      "outputs": [
        {
          "output_type": "stream",
          "name": "stdout",
          "text": [
            "Initial tensor:  [[19 15]\n",
            " [ 6 17]]\n",
            "Squared tensor =  [[361 225]\n",
            " [ 36 289]]\n"
          ]
        }
      ]
    },
    {
      "cell_type": "code",
      "source": [
        "\n",
        "tensor1 = tf.random.uniform((2,2), minval= 1, maxval= 20, dtype= tf.int32)\n",
        "print(\"Initial tensor: \", tensor1.numpy())\n",
        "tensor2 = tf.multiply( tensor1 , tensor1)\n",
        "print(\"Squared tensor = \", tensor2.numpy())"
      ],
      "metadata": {
        "colab": {
          "base_uri": "https://localhost:8080/"
        },
        "id": "yvKkSZXhbqsd",
        "outputId": "ae693513-82a5-4b0e-88ea-d63b61add712"
      },
      "execution_count": 17,
      "outputs": [
        {
          "output_type": "stream",
          "name": "stdout",
          "text": [
            "Initial tensor:  [[11 19]\n",
            " [15  8]]\n",
            "Squared tensor =  [[121 361]\n",
            " [225  64]]\n"
          ]
        }
      ]
    },
    {
      "cell_type": "code",
      "source": [
        "t1 = tf.Variable([[2,3,4], [5,7,9], [1,6,3], [5,8,4]])\n",
        "t2 = tf.Variable([[2,3,4,5], [5,7,9,4], [1,6,3,9]])\n",
        "\n",
        "# t3 = t1 + t2\n",
        "# error throw as dimensions are not same."
      ],
      "metadata": {
        "id": "Y8ekYl7VbsXE"
      },
      "execution_count": 19,
      "outputs": []
    },
    {
      "cell_type": "code",
      "source": [
        "# Solve the following system of linear equations using TensorFlow. \n",
        "\n",
        "# x + y + z + w = 13\n",
        "# 2x + 3y − w = −1\n",
        "# −3x + 4y + z + 2w = 10\n",
        "# x + 2y − z + w = 1\n",
        "\n",
        "# Answer: x=2, y=0, z=6 and w=5"
      ],
      "metadata": {
        "id": "lQRZuzQ1cFD8"
      },
      "execution_count": 20,
      "outputs": []
    },
    {
      "cell_type": "code",
      "source": [
        "x = tf.constant([[1,1,1,1],\n",
        "                 [2,3,0,-1],\n",
        "                 [-3,4,1,2],\n",
        "                 [1,2,-1,1]],dtype='float')\n",
        "\n",
        "y = tf.constant([[13],[-1],[10],[1]],dtype='float')\n",
        "xinv = tf.linalg.inv(x)\n",
        "ny = y\n",
        "ans = tf.linalg.matmul(xinv,y)\n",
        "print(ans)"
      ],
      "metadata": {
        "colab": {
          "base_uri": "https://localhost:8080/"
        },
        "id": "MDIscz3VgBFE",
        "outputId": "2bce4352-cb81-43e5-95eb-907d6acae1f2"
      },
      "execution_count": 33,
      "outputs": [
        {
          "output_type": "stream",
          "name": "stdout",
          "text": [
            "tf.Tensor(\n",
            "[[ 2.0000000e+00]\n",
            " [-1.0058284e-07]\n",
            " [ 5.9999995e+00]\n",
            " [ 5.0000005e+00]], shape=(4, 1), dtype=float32)\n"
          ]
        }
      ]
    },
    {
      "cell_type": "code",
      "source": [
        "# Question\n",
        "# Using logistic regression - means using sigmoid function find the prob. of positive class\n",
        "weights = tf.constant([[0.5,1,-1.2]],dtype='float')\n",
        "features = tf.constant([[0.2],[1],[0.5]],dtype='float')\n",
        "b = 0.01\n",
        "a = tf.linalg.matmul(weights,features) + b\n",
        "print(a)\n",
        "p = tf.sigmoid(a)\n",
        "print(p.numpy()[0][0])"
      ],
      "metadata": {
        "colab": {
          "base_uri": "https://localhost:8080/"
        },
        "id": "T9dXT4Tzgett",
        "outputId": "c2bcdfc1-ef2d-4cf9-83aa-4193e42d6bca"
      },
      "execution_count": 42,
      "outputs": [
        {
          "output_type": "stream",
          "name": "stdout",
          "text": [
            "tf.Tensor([[0.51]], shape=(1, 1), dtype=float32)\n",
            "0.62480646\n"
          ]
        }
      ]
    },
    {
      "cell_type": "code",
      "source": [],
      "metadata": {
        "id": "Iy5u02hvjcer"
      },
      "execution_count": null,
      "outputs": []
    }
  ]
}