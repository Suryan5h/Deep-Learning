{
  "nbformat": 4,
  "nbformat_minor": 0,
  "metadata": {
    "colab": {
      "provenance": [],
      "authorship_tag": "ABX9TyP70BHDty4c3vW0E3JpgIU9",
      "include_colab_link": true
    },
    "kernelspec": {
      "name": "python3",
      "display_name": "Python 3"
    },
    "language_info": {
      "name": "python"
    }
  },
  "cells": [
    {
      "cell_type": "markdown",
      "metadata": {
        "id": "view-in-github",
        "colab_type": "text"
      },
      "source": [
        "<a href=\"https://colab.research.google.com/github/Suryan5h/Deep-Learning/blob/main/Auto_gradient_exercise.ipynb\" target=\"_parent\"><img src=\"https://colab.research.google.com/assets/colab-badge.svg\" alt=\"Open In Colab\"/></a>"
      ]
    },
    {
      "cell_type": "code",
      "execution_count": 1,
      "metadata": {
        "id": "w-26EB4xpyuC"
      },
      "outputs": [],
      "source": [
        "import tensorflow as tf\n",
        "import numpy as np"
      ]
    },
    {
      "cell_type": "code",
      "source": [
        "p = tf.Variable([[1,2,3,4], [6,7,8,9], [1,2,3,4], [6,7,8,9]])\n",
        "r = tf.Variable([[100], [10], [100], [10]])\n",
        "q=p*r\n",
        "print(q)"
      ],
      "metadata": {
        "colab": {
          "base_uri": "https://localhost:8080/"
        },
        "id": "sqwyJV3Tp1zm",
        "outputId": "792c17e0-a7af-4e78-9a86-c59cab023786"
      },
      "execution_count": 2,
      "outputs": [
        {
          "output_type": "stream",
          "name": "stdout",
          "text": [
            "tf.Tensor(\n",
            "[[100 200 300 400]\n",
            " [ 60  70  80  90]\n",
            " [100 200 300 400]\n",
            " [ 60  70  80  90]], shape=(4, 4), dtype=int32)\n"
          ]
        }
      ]
    },
    {
      "cell_type": "code",
      "source": [
        "p = tf.Variable([[1,2,3,4], [6,7,8,9], [1,2,3,4], [6,7,8,9]])\n",
        "r = tf.Variable([[100, 10, 100, 10]])\n",
        "q=p*r\n",
        "print(q)"
      ],
      "metadata": {
        "colab": {
          "base_uri": "https://localhost:8080/"
        },
        "id": "pNPbNfMkp2b0",
        "outputId": "41821321-783f-429b-db25-55c8e1145dfc"
      },
      "execution_count": 3,
      "outputs": [
        {
          "output_type": "stream",
          "name": "stdout",
          "text": [
            "tf.Tensor(\n",
            "[[100  20 300  40]\n",
            " [600  70 800  90]\n",
            " [100  20 300  40]\n",
            " [600  70 800  90]], shape=(4, 4), dtype=int32)\n"
          ]
        }
      ]
    },
    {
      "cell_type": "code",
      "source": [
        "t = tf.Variable(0.5)\n",
        "pi = tf.constant(3.14)\n",
        "with tf.GradientTape() as tape:\n",
        "  r=t**2\n",
        "  theta = t-pi\n",
        "  S = 3*r*tf.math.cos(theta)\n",
        "\n",
        "dS_dt = tape.gradient(S,t)\n",
        "print(dS_dt.numpy())"
      ],
      "metadata": {
        "colab": {
          "base_uri": "https://localhost:8080/"
        },
        "id": "8pEq6hnJp9a7",
        "outputId": "b290b080-1e94-4f11-94e9-e18fb5d7bfdf"
      },
      "execution_count": 9,
      "outputs": [
        {
          "output_type": "stream",
          "name": "stdout",
          "text": [
            "-2.269837\n"
          ]
        }
      ]
    },
    {
      "cell_type": "code",
      "source": [],
      "metadata": {
        "id": "CPMuusdVrhy1"
      },
      "execution_count": null,
      "outputs": []
    }
  ]
}